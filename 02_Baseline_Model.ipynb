{
 "cells": [
  {
   "cell_type": "markdown",
   "metadata": {},
   "source": [
    "## **Processed Data**"
   ]
  },
  {
   "cell_type": "code",
   "execution_count": 1,
   "metadata": {},
   "outputs": [],
   "source": [
    "import os\n",
    "import warnings\n",
    "warnings.filterwarnings('ignore')\n",
    "\n",
    "import pandas as pd\n",
    "import numpy as np\n",
    "import matplotlib.pyplot as plt\n",
    "import seaborn as sns\n",
    "\n",
    "import m_eda_plots as edap\n",
    "import m_metrics as met\n",
    "\n",
    "sns.set_style(\"whitegrid\")\n",
    "plt.rcParams['font.size'] = 10\n"
   ]
  },
  {
   "cell_type": "code",
   "execution_count": 2,
   "metadata": {},
   "outputs": [
    {
     "name": "stdout",
     "output_type": "stream",
     "text": [
      "Data: df_01.csv\n",
      "4454601 rows and 23 columns\n",
      "485540788 bytes\n"
     ]
    }
   ],
   "source": [
    "# import preprocessed data\n",
    "\n",
    "PATH = 'processed_data/df_01.csv'\n",
    "df = pd.read_csv(PATH)\n",
    "size = os.path.getsize(PATH)\n",
    "\n",
    "print('Data: df_01.csv')\n",
    "print(f'{df.shape[0]} rows and {df.shape[1]} columns')\n",
    "print(f'{size} bytes')"
   ]
  },
  {
   "cell_type": "code",
   "execution_count": 3,
   "metadata": {},
   "outputs": [
    {
     "data": {
      "text/html": [
       "<div>\n",
       "<style scoped>\n",
       "    .dataframe tbody tr th:only-of-type {\n",
       "        vertical-align: middle;\n",
       "    }\n",
       "\n",
       "    .dataframe tbody tr th {\n",
       "        vertical-align: top;\n",
       "    }\n",
       "\n",
       "    .dataframe thead th {\n",
       "        text-align: right;\n",
       "    }\n",
       "</style>\n",
       "<table border=\"1\" class=\"dataframe\">\n",
       "  <thead>\n",
       "    <tr style=\"text-align: right;\">\n",
       "      <th></th>\n",
       "      <th>client_id</th>\n",
       "      <th>creation_date</th>\n",
       "      <th>district</th>\n",
       "      <th>region</th>\n",
       "      <th>client_catg</th>\n",
       "      <th>target</th>\n",
       "      <th>invoice_date</th>\n",
       "      <th>tarif_type</th>\n",
       "      <th>counter_number</th>\n",
       "      <th>counter_statue</th>\n",
       "      <th>...</th>\n",
       "      <th>consommation_level_1</th>\n",
       "      <th>consommation_level_2</th>\n",
       "      <th>consommation_level_3</th>\n",
       "      <th>consommation_level_4</th>\n",
       "      <th>old_index</th>\n",
       "      <th>new_index</th>\n",
       "      <th>months_number</th>\n",
       "      <th>counter_type</th>\n",
       "      <th>year</th>\n",
       "      <th>month</th>\n",
       "    </tr>\n",
       "  </thead>\n",
       "  <tbody>\n",
       "    <tr>\n",
       "      <th>0</th>\n",
       "      <td>train_Client_0</td>\n",
       "      <td>1994-12-31</td>\n",
       "      <td>60</td>\n",
       "      <td>101</td>\n",
       "      <td>11</td>\n",
       "      <td>0.0</td>\n",
       "      <td>2014-03-24</td>\n",
       "      <td>11</td>\n",
       "      <td>1335667</td>\n",
       "      <td>0</td>\n",
       "      <td>...</td>\n",
       "      <td>82</td>\n",
       "      <td>0</td>\n",
       "      <td>0</td>\n",
       "      <td>0</td>\n",
       "      <td>14302</td>\n",
       "      <td>14384</td>\n",
       "      <td>4</td>\n",
       "      <td>ELEC</td>\n",
       "      <td>2014</td>\n",
       "      <td>3</td>\n",
       "    </tr>\n",
       "    <tr>\n",
       "      <th>1</th>\n",
       "      <td>train_Client_0</td>\n",
       "      <td>1994-12-31</td>\n",
       "      <td>60</td>\n",
       "      <td>101</td>\n",
       "      <td>11</td>\n",
       "      <td>0.0</td>\n",
       "      <td>2013-03-29</td>\n",
       "      <td>11</td>\n",
       "      <td>1335667</td>\n",
       "      <td>0</td>\n",
       "      <td>...</td>\n",
       "      <td>1200</td>\n",
       "      <td>184</td>\n",
       "      <td>0</td>\n",
       "      <td>0</td>\n",
       "      <td>12294</td>\n",
       "      <td>13678</td>\n",
       "      <td>4</td>\n",
       "      <td>ELEC</td>\n",
       "      <td>2013</td>\n",
       "      <td>3</td>\n",
       "    </tr>\n",
       "    <tr>\n",
       "      <th>2</th>\n",
       "      <td>train_Client_0</td>\n",
       "      <td>1994-12-31</td>\n",
       "      <td>60</td>\n",
       "      <td>101</td>\n",
       "      <td>11</td>\n",
       "      <td>0.0</td>\n",
       "      <td>2015-03-23</td>\n",
       "      <td>11</td>\n",
       "      <td>1335667</td>\n",
       "      <td>0</td>\n",
       "      <td>...</td>\n",
       "      <td>123</td>\n",
       "      <td>0</td>\n",
       "      <td>0</td>\n",
       "      <td>0</td>\n",
       "      <td>14624</td>\n",
       "      <td>14747</td>\n",
       "      <td>4</td>\n",
       "      <td>ELEC</td>\n",
       "      <td>2015</td>\n",
       "      <td>3</td>\n",
       "    </tr>\n",
       "    <tr>\n",
       "      <th>3</th>\n",
       "      <td>train_Client_0</td>\n",
       "      <td>1994-12-31</td>\n",
       "      <td>60</td>\n",
       "      <td>101</td>\n",
       "      <td>11</td>\n",
       "      <td>0.0</td>\n",
       "      <td>2015-07-13</td>\n",
       "      <td>11</td>\n",
       "      <td>1335667</td>\n",
       "      <td>0</td>\n",
       "      <td>...</td>\n",
       "      <td>102</td>\n",
       "      <td>0</td>\n",
       "      <td>0</td>\n",
       "      <td>0</td>\n",
       "      <td>14747</td>\n",
       "      <td>14849</td>\n",
       "      <td>4</td>\n",
       "      <td>ELEC</td>\n",
       "      <td>2015</td>\n",
       "      <td>7</td>\n",
       "    </tr>\n",
       "    <tr>\n",
       "      <th>4</th>\n",
       "      <td>train_Client_0</td>\n",
       "      <td>1994-12-31</td>\n",
       "      <td>60</td>\n",
       "      <td>101</td>\n",
       "      <td>11</td>\n",
       "      <td>0.0</td>\n",
       "      <td>2016-11-17</td>\n",
       "      <td>11</td>\n",
       "      <td>1335667</td>\n",
       "      <td>0</td>\n",
       "      <td>...</td>\n",
       "      <td>572</td>\n",
       "      <td>0</td>\n",
       "      <td>0</td>\n",
       "      <td>0</td>\n",
       "      <td>15066</td>\n",
       "      <td>15638</td>\n",
       "      <td>12</td>\n",
       "      <td>ELEC</td>\n",
       "      <td>2016</td>\n",
       "      <td>11</td>\n",
       "    </tr>\n",
       "  </tbody>\n",
       "</table>\n",
       "<p>5 rows × 23 columns</p>\n",
       "</div>"
      ],
      "text/plain": [
       "        client_id creation_date  district  region  client_catg  target  \\\n",
       "0  train_Client_0    1994-12-31        60     101           11     0.0   \n",
       "1  train_Client_0    1994-12-31        60     101           11     0.0   \n",
       "2  train_Client_0    1994-12-31        60     101           11     0.0   \n",
       "3  train_Client_0    1994-12-31        60     101           11     0.0   \n",
       "4  train_Client_0    1994-12-31        60     101           11     0.0   \n",
       "\n",
       "  invoice_date  tarif_type  counter_number  counter_statue  ...  \\\n",
       "0   2014-03-24          11         1335667               0  ...   \n",
       "1   2013-03-29          11         1335667               0  ...   \n",
       "2   2015-03-23          11         1335667               0  ...   \n",
       "3   2015-07-13          11         1335667               0  ...   \n",
       "4   2016-11-17          11         1335667               0  ...   \n",
       "\n",
       "   consommation_level_1  consommation_level_2  consommation_level_3  \\\n",
       "0                    82                     0                     0   \n",
       "1                  1200                   184                     0   \n",
       "2                   123                     0                     0   \n",
       "3                   102                     0                     0   \n",
       "4                   572                     0                     0   \n",
       "\n",
       "   consommation_level_4  old_index  new_index  months_number  counter_type  \\\n",
       "0                     0      14302      14384              4          ELEC   \n",
       "1                     0      12294      13678              4          ELEC   \n",
       "2                     0      14624      14747              4          ELEC   \n",
       "3                     0      14747      14849              4          ELEC   \n",
       "4                     0      15066      15638             12          ELEC   \n",
       "\n",
       "   year  month  \n",
       "0  2014      3  \n",
       "1  2013      3  \n",
       "2  2015      3  \n",
       "3  2015      7  \n",
       "4  2016     11  \n",
       "\n",
       "[5 rows x 23 columns]"
      ]
     },
     "execution_count": 3,
     "metadata": {},
     "output_type": "execute_result"
    }
   ],
   "source": [
    "df.head()"
   ]
  },
  {
   "cell_type": "code",
   "execution_count": 4,
   "metadata": {},
   "outputs": [
    {
     "name": "stdout",
     "output_type": "stream",
     "text": [
      "<class 'pandas.core.frame.DataFrame'>\n",
      "RangeIndex: 4454601 entries, 0 to 4454600\n",
      "Data columns (total 23 columns):\n",
      " #   Column                Dtype  \n",
      "---  ------                -----  \n",
      " 0   client_id             object \n",
      " 1   creation_date         object \n",
      " 2   district              int64  \n",
      " 3   region                int64  \n",
      " 4   client_catg           int64  \n",
      " 5   target                float64\n",
      " 6   invoice_date          object \n",
      " 7   tarif_type            int64  \n",
      " 8   counter_number        int64  \n",
      " 9   counter_statue        int64  \n",
      " 10  counter_code          int64  \n",
      " 11  reading_remarque      int64  \n",
      " 12  counter_coefficient   int64  \n",
      " 13  consommation_level_1  int64  \n",
      " 14  consommation_level_2  int64  \n",
      " 15  consommation_level_3  int64  \n",
      " 16  consommation_level_4  int64  \n",
      " 17  old_index             int64  \n",
      " 18  new_index             int64  \n",
      " 19  months_number         int64  \n",
      " 20  counter_type          object \n",
      " 21  year                  int64  \n",
      " 22  month                 int64  \n",
      "dtypes: float64(1), int64(18), object(4)\n",
      "memory usage: 781.7+ MB\n"
     ]
    }
   ],
   "source": [
    "df.info()"
   ]
  },
  {
   "cell_type": "code",
   "execution_count": 5,
   "metadata": {},
   "outputs": [
    {
     "data": {
      "text/plain": [
       "Index(['client_id', 'creation_date', 'district', 'region', 'client_catg',\n",
       "       'target', 'invoice_date', 'tarif_type', 'counter_number',\n",
       "       'counter_statue', 'counter_code', 'reading_remarque',\n",
       "       'counter_coefficient', 'consommation_level_1', 'consommation_level_2',\n",
       "       'consommation_level_3', 'consommation_level_4', 'old_index',\n",
       "       'new_index', 'months_number', 'counter_type', 'year', 'month'],\n",
       "      dtype='object')"
      ]
     },
     "execution_count": 5,
     "metadata": {},
     "output_type": "execute_result"
    }
   ],
   "source": [
    "df.columns"
   ]
  },
  {
   "cell_type": "markdown",
   "metadata": {},
   "source": [
    "## **Create new features**"
   ]
  },
  {
   "cell_type": "markdown",
   "metadata": {},
   "source": [
    "### **creation_date, invoice_date**"
   ]
  },
  {
   "cell_type": "code",
   "execution_count": 6,
   "metadata": {},
   "outputs": [
    {
     "name": "stdout",
     "output_type": "stream",
     "text": [
      "Type of creation_date: datetime64[ns]\n",
      "Type of invoice_date: datetime64[ns]\n"
     ]
    }
   ],
   "source": [
    "# transform date column to datetime format\n",
    "date = ['creation_date', 'invoice_date']\n",
    "for col in date:\n",
    "    df[col] = pd.to_datetime(df[col])\n",
    "    print(f'Type of {col}: {df[col].dtype}')"
   ]
  },
  {
   "cell_type": "markdown",
   "metadata": {},
   "source": [
    "### **before**"
   ]
  },
  {
   "cell_type": "code",
   "execution_count": 7,
   "metadata": {},
   "outputs": [
    {
     "data": {
      "text/plain": [
       "before\n",
       "0    4440991\n",
       "1      13610\n",
       "Name: count, dtype: int64"
      ]
     },
     "execution_count": 7,
     "metadata": {},
     "output_type": "execute_result"
    }
   ],
   "source": [
    "# create a new categorical feature: if the invoice is issued before the creation date\n",
    "df['before'] = df['creation_date'] > df['invoice_date']\n",
    "\n",
    "# transform the boolean feature to integer\n",
    "df['before'] = df['before'].astype(int)\n",
    "df['before'].value_counts()\n"
   ]
  },
  {
   "cell_type": "markdown",
   "metadata": {},
   "source": [
    "### **year, month**"
   ]
  },
  {
   "cell_type": "code",
   "execution_count": 8,
   "metadata": {},
   "outputs": [
    {
     "data": {
      "text/plain": [
       "(dtype('int32'), dtype('int32'))"
      ]
     },
     "execution_count": 8,
     "metadata": {},
     "output_type": "execute_result"
    }
   ],
   "source": [
    "# add new features year and month\n",
    "df['year'] = df['invoice_date'].dt.year\n",
    "df['month'] = df['invoice_date'].dt.month\n",
    "df.year.dtype, df.month.dtype\n"
   ]
  },
  {
   "cell_type": "code",
   "execution_count": 9,
   "metadata": {},
   "outputs": [
    {
     "name": "stdout",
     "output_type": "stream",
     "text": [
      "The table means the number and the ratio of non-fraudulent and fraudulent cases for each feature value.\n",
      "target     0.0    1.0   ratio_0   ratio_1\n",
      "year                                     \n",
      "2005     60270   4392  0.932078  0.067922\n",
      "2006    204340  17430  0.921405  0.078595\n",
      "2007    227006  19178  0.922099  0.077901\n",
      "2008    242532  20681  0.921429  0.078571\n",
      "2009    261578  22797  0.919835  0.080165\n",
      "2010    290379  25850  0.918255  0.081745\n",
      "2011    285177  25225  0.918734  0.081266\n",
      "2012    295390  26721  0.917044  0.082956\n",
      "2013    308067  27877  0.917019  0.082981\n",
      "2014    315102  28272  0.917664  0.082336\n",
      "2015    331561  29198  0.919065  0.080935\n",
      "2016    353686  29966  0.921893  0.078107\n",
      "2017    378778  32153  0.921756  0.078244\n",
      "2018    311177  24465  0.927110  0.072890\n",
      "2019    236446  18907  0.925957  0.074043\n",
      "\n"
     ]
    },
    {
     "data": {
      "image/png": "[encoded data removed]",
      "text/plain": [
       "<Figure size 1500x600 with 1 Axes>"
      ]
     },
     "metadata": {},
     "output_type": "display_data"
    },
    {
     "name": "stdout",
     "output_type": "stream",
     "text": [
      "The highest rate of fraudulent is year = 2013 with rate 8.30%\n",
      "The second highest rate of fraudulent is tarif_type = 2012 with rate 8.30%\n",
      "The third highest rate of fraudulent is tarif_type = 2014 with rate 8.23%\n"
     ]
    }
   ],
   "source": [
    "# plot Percentage of Fraudulent and Non-Fraudulent Cases Over Year\n",
    "edap.feature_target_distribution(df, 'year', 'target')\n"
   ]
  },
  {
   "cell_type": "code",
   "execution_count": 10,
   "metadata": {},
   "outputs": [
    {
     "name": "stdout",
     "output_type": "stream",
     "text": [
      "The table means the number and the ratio of non-fraudulent and fraudulent cases for each feature value.\n",
      "target     0.0    1.0   ratio_0   ratio_1\n",
      "month                                    \n",
      "1       346614  31680  0.916256  0.083744\n",
      "2       377718  37992  0.908609  0.091391\n",
      "3       367801  32372  0.919105  0.080895\n",
      "4       374495  32930  0.919175  0.080825\n",
      "5       382709  33803  0.918843  0.081157\n",
      "6       337129  27981  0.923363  0.076637\n",
      "7       327842  25320  0.928305  0.071695\n",
      "8       324847  26096  0.925640  0.074360\n",
      "9       307375  27237  0.918601  0.081399\n",
      "10      319554  26790  0.922649  0.077351\n",
      "11      331626  26402  0.926257  0.073743\n",
      "12      303779  24509  0.925343  0.074657\n",
      "\n"
     ]
    },
    {
     "data": {
      "image/png": "[encoded data removed]",
      "text/plain": [
       "<Figure size 1200x600 with 1 Axes>"
      ]
     },
     "metadata": {},
     "output_type": "display_data"
    },
    {
     "name": "stdout",
     "output_type": "stream",
     "text": [
      "The highest rate of fraudulent is month = 2 with rate 9.14%\n",
      "The second highest rate of fraudulent is tarif_type = 1 with rate 8.37%\n",
      "The third highest rate of fraudulent is tarif_type = 9 with rate 8.14%\n"
     ]
    }
   ],
   "source": [
    "# plot Percentage of Fraudulent and Non-Fraudulent Cases Over Month\n",
    "edap.feature_target_distribution(df, 'month', 'target')"
   ]
  },
  {
   "cell_type": "markdown",
   "metadata": {},
   "source": [
    "### **numerical features**"
   ]
  },
  {
   "cell_type": "markdown",
   "metadata": {},
   "source": [
    "### **consumption, consumption_per_month, index_interval, index_interval_per_month**"
   ]
  },
  {
   "cell_type": "code",
   "execution_count": 11,
   "metadata": {},
   "outputs": [],
   "source": [
    "# sum up the consumption of all levels\n",
    "df['consumption'] = df['consommation_level_1'] + df['consommation_level_2'] + df['consommation_level_3'] + df['consommation_level_4']\n",
    "# divide the consumption by the number of months\n",
    "df['consumption_per_month'] = df['consumption'] / df['months_number']\n",
    "# calculate the interval between the old and new index\n",
    "df['index_interval'] = df['new_index'] - df['old_index']\n",
    "# divide the interval by the number of months\n",
    "df['index_interval_per_month'] = df['index_interval'] / df['months_number']"
   ]
  },
  {
   "cell_type": "markdown",
   "metadata": {},
   "source": [
    "### **diff**"
   ]
  },
  {
   "cell_type": "code",
   "execution_count": 12,
   "metadata": {},
   "outputs": [],
   "source": [
    "# create a new feature: if 'counter_coefficient * index_interval != consumption'\n",
    "df['diff'] = df['counter_coefficient'] * df['index_interval'] != df['consumption']\n",
    "# transform boolean to integer\n",
    "df['diff'] = df['diff'].astype(int)"
   ]
  },
  {
   "cell_type": "markdown",
   "metadata": {},
   "source": [
    "### **counter_code, uniq_counter**"
   ]
  },
  {
   "cell_type": "code",
   "execution_count": 13,
   "metadata": {},
   "outputs": [
    {
     "data": {
      "text/plain": [
       "counter_code    3\n",
       "target          1\n",
       "dtype: int64"
      ]
     },
     "execution_count": 13,
     "metadata": {},
     "output_type": "execute_result"
    }
   ],
   "source": [
    "# inspect how many unique counter_code in each client_id\n",
    "df.query('client_id == \"train_Client_100083\"')[['counter_code', 'target']].nunique()"
   ]
  },
  {
   "cell_type": "code",
   "execution_count": 14,
   "metadata": {},
   "outputs": [
    {
     "name": "stdout",
     "output_type": "stream",
     "text": [
      "2947    3\n",
      "Name: uniq_counter, dtype: int64\n"
     ]
    }
   ],
   "source": [
    "# create a new column to record the number of unique counter_code in each client_id\n",
    "df['uniq_counter'] = df.groupby('client_id')['counter_code'].transform('nunique')\n",
    "# check if the new column is correct\n",
    "print(df.query('client_id == \"train_Client_100083\"').uniq_counter[:1])\n"
   ]
  },
  {
   "cell_type": "code",
   "execution_count": 15,
   "metadata": {},
   "outputs": [
    {
     "name": "stdout",
     "output_type": "stream",
     "text": [
      "The table means the number and the ratio of non-fraudulent and fraudulent cases for each feature value.\n",
      "target          0.0   1.0   ratio_0   ratio_1\n",
      "uniq_counter                                 \n",
      "1.0           61232  2322  0.963464  0.036536\n",
      "2.0           54452  4058  0.930644  0.069356\n",
      "3.0            4700  1056  0.816539  0.183461\n",
      "4.0             384   120  0.761905  0.238095\n",
      "5.0              24     8  0.750000  0.250000\n",
      "6.0               5     2  0.714286  0.285714\n",
      "\n"
     ]
    },
    {
     "data": {
      "image/png": "[encoded data removed]",
      "text/plain": [
       "<Figure size 600x600 with 1 Axes>"
      ]
     },
     "metadata": {},
     "output_type": "display_data"
    },
    {
     "name": "stdout",
     "output_type": "stream",
     "text": [
      "The highest rate of fraudulent is uniq_counter = 6.0 with rate 28.57%\n",
      "The second highest rate of fraudulent is tarif_type = 5.0 with rate 25.00%\n",
      "The third highest rate of fraudulent is tarif_type = 4.0 with rate 23.81%\n"
     ]
    }
   ],
   "source": [
    "# plot distribution of target cases vs uniq_counter\n",
    "agg_df = df.groupby('client_id')[['uniq_counter', 'target']].mean()\n",
    "\n",
    "# plot distribution of target cases vs uniq_counter\n",
    "edap.feature_target_distribution(agg_df, 'uniq_counter', 'target')"
   ]
  },
  {
   "cell_type": "markdown",
   "metadata": {},
   "source": [
    "### **categorical features**"
   ]
  },
  {
   "cell_type": "code",
   "execution_count": 16,
   "metadata": {},
   "outputs": [],
   "source": [
    "# transform the type of categorical variables\n",
    "cat_fs = ['district', 'client_catg', 'region', 'target']\n",
    "df[cat_fs] = df[cat_fs].astype('category')"
   ]
  },
  {
   "cell_type": "code",
   "execution_count": 17,
   "metadata": {},
   "outputs": [],
   "source": [
    "#df.info()"
   ]
  },
  {
   "cell_type": "code",
   "execution_count": 18,
   "metadata": {},
   "outputs": [
    {
     "data": {
      "text/plain": [
       "client_id                   0\n",
       "creation_date               0\n",
       "district                    0\n",
       "region                      0\n",
       "client_catg                 0\n",
       "target                      0\n",
       "invoice_date                0\n",
       "tarif_type                  0\n",
       "counter_number              0\n",
       "counter_statue              0\n",
       "counter_code                0\n",
       "reading_remarque            0\n",
       "counter_coefficient         0\n",
       "consommation_level_1        0\n",
       "consommation_level_2        0\n",
       "consommation_level_3        0\n",
       "consommation_level_4        0\n",
       "old_index                   0\n",
       "new_index                   0\n",
       "months_number               0\n",
       "counter_type                0\n",
       "year                        0\n",
       "month                       0\n",
       "before                      0\n",
       "consumption                 0\n",
       "consumption_per_month       0\n",
       "index_interval              0\n",
       "index_interval_per_month    2\n",
       "diff                        0\n",
       "uniq_counter                0\n",
       "dtype: int64"
      ]
     },
     "execution_count": 18,
     "metadata": {},
     "output_type": "execute_result"
    }
   ],
   "source": [
    "# check if there is any NaN value\n",
    "df.isnull().sum()"
   ]
  },
  {
   "cell_type": "code",
   "execution_count": 19,
   "metadata": {},
   "outputs": [
    {
     "data": {
      "text/plain": [
       "tarif_type                  0\n",
       "counter_number              0\n",
       "counter_statue              0\n",
       "counter_code                0\n",
       "reading_remarque            0\n",
       "counter_coefficient         0\n",
       "consommation_level_1        0\n",
       "consommation_level_2        0\n",
       "consommation_level_3        0\n",
       "consommation_level_4        0\n",
       "old_index                   0\n",
       "new_index                   0\n",
       "months_number               0\n",
       "before                      0\n",
       "consumption                 0\n",
       "consumption_per_month       2\n",
       "index_interval              0\n",
       "index_interval_per_month    0\n",
       "diff                        0\n",
       "uniq_counter                0\n",
       "dtype: int64"
      ]
     },
     "execution_count": 19,
     "metadata": {},
     "output_type": "execute_result"
    }
   ],
   "source": [
    "# Selecting numeric columns\n",
    "num_fs = [f for f in df.columns if df[f].dtype in ['int64', 'float64']]\n",
    "\n",
    "# Checking for infinite values\n",
    "np.isinf(df[num_fs]).sum()\n"
   ]
  },
  {
   "cell_type": "code",
   "execution_count": 20,
   "metadata": {},
   "outputs": [
    {
     "data": {
      "text/html": [
       "<div>\n",
       "<style scoped>\n",
       "    .dataframe tbody tr th:only-of-type {\n",
       "        vertical-align: middle;\n",
       "    }\n",
       "\n",
       "    .dataframe tbody tr th {\n",
       "        vertical-align: top;\n",
       "    }\n",
       "\n",
       "    .dataframe thead th {\n",
       "        text-align: right;\n",
       "    }\n",
       "</style>\n",
       "<table border=\"1\" class=\"dataframe\">\n",
       "  <thead>\n",
       "    <tr style=\"text-align: right;\">\n",
       "      <th></th>\n",
       "      <th>client_id</th>\n",
       "      <th>creation_date</th>\n",
       "      <th>district</th>\n",
       "      <th>region</th>\n",
       "      <th>client_catg</th>\n",
       "      <th>target</th>\n",
       "      <th>invoice_date</th>\n",
       "      <th>tarif_type</th>\n",
       "      <th>counter_number</th>\n",
       "      <th>counter_statue</th>\n",
       "      <th>...</th>\n",
       "      <th>counter_type</th>\n",
       "      <th>year</th>\n",
       "      <th>month</th>\n",
       "      <th>before</th>\n",
       "      <th>consumption</th>\n",
       "      <th>consumption_per_month</th>\n",
       "      <th>index_interval</th>\n",
       "      <th>index_interval_per_month</th>\n",
       "      <th>diff</th>\n",
       "      <th>uniq_counter</th>\n",
       "    </tr>\n",
       "  </thead>\n",
       "  <tbody>\n",
       "    <tr>\n",
       "      <th>3685841</th>\n",
       "      <td>train_Client_79075</td>\n",
       "      <td>2011-11-28</td>\n",
       "      <td>69</td>\n",
       "      <td>107</td>\n",
       "      <td>11</td>\n",
       "      <td>0.0</td>\n",
       "      <td>2012-01-16</td>\n",
       "      <td>40</td>\n",
       "      <td>412</td>\n",
       "      <td>9</td>\n",
       "      <td>...</td>\n",
       "      <td>GAZ</td>\n",
       "      <td>2012</td>\n",
       "      <td>1</td>\n",
       "      <td>0</td>\n",
       "      <td>1</td>\n",
       "      <td>inf</td>\n",
       "      <td>0</td>\n",
       "      <td>NaN</td>\n",
       "      <td>1</td>\n",
       "      <td>3</td>\n",
       "    </tr>\n",
       "    <tr>\n",
       "      <th>3966037</th>\n",
       "      <td>train_Client_86638</td>\n",
       "      <td>2009-10-12</td>\n",
       "      <td>69</td>\n",
       "      <td>104</td>\n",
       "      <td>11</td>\n",
       "      <td>0.0</td>\n",
       "      <td>2010-05-04</td>\n",
       "      <td>40</td>\n",
       "      <td>128190</td>\n",
       "      <td>0</td>\n",
       "      <td>...</td>\n",
       "      <td>GAZ</td>\n",
       "      <td>2010</td>\n",
       "      <td>5</td>\n",
       "      <td>0</td>\n",
       "      <td>1</td>\n",
       "      <td>inf</td>\n",
       "      <td>0</td>\n",
       "      <td>NaN</td>\n",
       "      <td>1</td>\n",
       "      <td>2</td>\n",
       "    </tr>\n",
       "  </tbody>\n",
       "</table>\n",
       "<p>2 rows × 30 columns</p>\n",
       "</div>"
      ],
      "text/plain": [
       "                  client_id creation_date district region client_catg target  \\\n",
       "3685841  train_Client_79075    2011-11-28       69    107          11    0.0   \n",
       "3966037  train_Client_86638    2009-10-12       69    104          11    0.0   \n",
       "\n",
       "        invoice_date  tarif_type  counter_number  counter_statue  ...  \\\n",
       "3685841   2012-01-16          40             412               9  ...   \n",
       "3966037   2010-05-04          40          128190               0  ...   \n",
       "\n",
       "         counter_type  year  month  before  consumption  \\\n",
       "3685841           GAZ  2012      1       0            1   \n",
       "3966037           GAZ  2010      5       0            1   \n",
       "\n",
       "         consumption_per_month  index_interval  index_interval_per_month  \\\n",
       "3685841                    inf               0                       NaN   \n",
       "3966037                    inf               0                       NaN   \n",
       "\n",
       "         diff  uniq_counter  \n",
       "3685841     1             3  \n",
       "3966037     1             2  \n",
       "\n",
       "[2 rows x 30 columns]"
      ]
     },
     "execution_count": 20,
     "metadata": {},
     "output_type": "execute_result"
    }
   ],
   "source": [
    "# take a look of the rows with months_number == 0\n",
    "df.query('months_number == 0').head()"
   ]
  },
  {
   "cell_type": "code",
   "execution_count": 21,
   "metadata": {},
   "outputs": [
    {
     "data": {
      "text/plain": [
       "(19, 30)"
      ]
     },
     "execution_count": 21,
     "metadata": {},
     "output_type": "execute_result"
    }
   ],
   "source": [
    "# check how many rows the clients train_Client_79075 have\n",
    "df.query('client_id == \"train_Client_79075\"').shape"
   ]
  },
  {
   "cell_type": "code",
   "execution_count": 22,
   "metadata": {},
   "outputs": [
    {
     "data": {
      "text/plain": [
       "months_number\n",
       "4    13\n",
       "2     4\n",
       "8     1\n",
       "0     1\n",
       "Name: count, dtype: int64"
      ]
     },
     "execution_count": 22,
     "metadata": {},
     "output_type": "execute_result"
    }
   ],
   "source": [
    "# checkhow many rows the client train_Client_79075 have\n",
    "df.query('client_id == \"train_Client_79075\"').months_number.value_counts()"
   ]
  },
  {
   "cell_type": "code",
   "execution_count": 23,
   "metadata": {},
   "outputs": [],
   "source": [
    "# drop the rows with months_number == 0\n",
    "df = df[df.months_number != 0]\n"
   ]
  },
  {
   "cell_type": "markdown",
   "metadata": {},
   "source": [
    "### **New DataFrame** - after create some features"
   ]
  },
  {
   "cell_type": "code",
   "execution_count": 24,
   "metadata": {},
   "outputs": [],
   "source": [
    "# a new dataframe for BaseLine Model\n",
    "# df.to_csv('processed_data/df_02.csv', index=False)"
   ]
  },
  {
   "cell_type": "markdown",
   "metadata": {},
   "source": [
    "## **Baseline Model**"
   ]
  }
 ],
 "metadata": {
  "kernelspec": {
   "display_name": "AnastasiaCUBoulder",
   "language": "python",
   "name": "python3"
  },
  "language_info": {
   "codemirror_mode": {
    "name": "ipython",
    "version": 3
   },
   "file_extension": ".py",
   "mimetype": "text/x-python",
   "name": "python",
   "nbconvert_exporter": "python",
   "pygments_lexer": "ipython3",
   "version": "3.10.13"
  }
 },
 "nbformat": 4,
 "nbformat_minor": 2
}
